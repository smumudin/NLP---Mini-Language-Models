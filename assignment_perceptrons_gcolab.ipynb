{
  "nbformat": 4,
  "nbformat_minor": 0,
  "metadata": {
    "colab": {
      "name": "assignment_perceptrons.ipynb",
      "provenance": []
    },
    "kernelspec": {
      "display_name": "Python 3",
      "language": "python",
      "name": "python3"
    },
    "language_info": {
      "codemirror_mode": {
        "name": "ipython",
        "version": 3
      },
      "file_extension": ".py",
      "mimetype": "text/x-python",
      "name": "python",
      "nbconvert_exporter": "python",
      "pygments_lexer": "ipython3",
      "version": "3.7.6"
    }
  },
  "cells": [
    {
      "cell_type": "code",
      "metadata": {
        "id": "LWKsY27qfxEh"
      },
      "source": [
        "#all the imports\n",
        "#not all might be needed -- e.g. I am using Google colab and importing files from my Google drive\n",
        "from pydrive.auth import GoogleAuth\n",
        "from pydrive.drive import GoogleDrive\n",
        "from google.colab import auth\n",
        "from oauth2client.client import GoogleCredentials\n",
        "import pandas as pd\n",
        "import numpy as np\n",
        "import matplotlib.pyplot as plt"
      ],
      "execution_count": 63,
      "outputs": []
    },
    {
      "cell_type": "markdown",
      "metadata": {
        "id": "YvUHYAymQ0Jv"
      },
      "source": [
        "###Question 1 (1 point) ###\n",
        " Load the English and Italian data into 2 separate data frames.\n"
      ]
    },
    {
      "cell_type": "code",
      "metadata": {
        "id": "dbI8ONTSKpYe"
      },
      "source": [
        "#load the data\n",
        "#your code goes here.\n",
        "#%cd /content/drive/My Drive/COURSES/2020/DATA/\n",
        "import pandas as pd\n",
        "en_data = pd.read_csv('https://raw.githubusercontent.com/smumudin/NLP---Mini-Language-Models/master/Datasets/CONcreTEXT_trial_EN.tsv',sep='\\t')\n",
        "it_data = pd.read_csv('https://raw.githubusercontent.com/smumudin/NLP---Mini-Language-Models/master/Datasets/CONcreTEXT_trial_IT.tsv',sep='\\t')"
      ],
      "execution_count": 64,
      "outputs": []
    },
    {
      "cell_type": "code",
      "metadata": {
        "id": "gm4aRtfcLgIg",
        "outputId": "ed8c4f6c-d28b-40df-9f42-2fa4b12e324e",
        "colab": {
          "base_uri": "https://localhost:8080/",
          "height": 419
        }
      },
      "source": [
        "\n",
        "#check to see what the data look like\n",
        "en_data.head(100)"
      ],
      "execution_count": 65,
      "outputs": [
        {
          "output_type": "execute_result",
          "data": {
            "text/html": [
              "<div>\n",
              "<style scoped>\n",
              "    .dataframe tbody tr th:only-of-type {\n",
              "        vertical-align: middle;\n",
              "    }\n",
              "\n",
              "    .dataframe tbody tr th {\n",
              "        vertical-align: top;\n",
              "    }\n",
              "\n",
              "    .dataframe thead th {\n",
              "        text-align: right;\n",
              "    }\n",
              "</style>\n",
              "<table border=\"1\" class=\"dataframe\">\n",
              "  <thead>\n",
              "    <tr style=\"text-align: right;\">\n",
              "      <th></th>\n",
              "      <th>TARGET</th>\n",
              "      <th>POS</th>\n",
              "      <th>INDEX</th>\n",
              "      <th>TEXT</th>\n",
              "      <th>MEAN</th>\n",
              "    </tr>\n",
              "  </thead>\n",
              "  <tbody>\n",
              "    <tr>\n",
              "      <th>0</th>\n",
              "      <td>achievement</td>\n",
              "      <td>N</td>\n",
              "      <td>3</td>\n",
              "      <td>Bring up academic achievements , awards , and ...</td>\n",
              "      <td>3.06</td>\n",
              "    </tr>\n",
              "    <tr>\n",
              "      <th>1</th>\n",
              "      <td>achievement</td>\n",
              "      <td>N</td>\n",
              "      <td>9</td>\n",
              "      <td>Please list people you have helped , your pers...</td>\n",
              "      <td>3.03</td>\n",
              "    </tr>\n",
              "    <tr>\n",
              "      <th>2</th>\n",
              "      <td>activate</td>\n",
              "      <td>V</td>\n",
              "      <td>1</td>\n",
              "      <td>Add activated carbon straight to your vodka .</td>\n",
              "      <td>3.83</td>\n",
              "    </tr>\n",
              "    <tr>\n",
              "      <th>3</th>\n",
              "      <td>activate</td>\n",
              "      <td>V</td>\n",
              "      <td>15</td>\n",
              "      <td>Place sensors around your garden , and when a ...</td>\n",
              "      <td>5.51</td>\n",
              "    </tr>\n",
              "    <tr>\n",
              "      <th>4</th>\n",
              "      <td>adventure</td>\n",
              "      <td>N</td>\n",
              "      <td>9</td>\n",
              "      <td>Look for a partner that shares your level of a...</td>\n",
              "      <td>2.03</td>\n",
              "    </tr>\n",
              "    <tr>\n",
              "      <th>...</th>\n",
              "      <td>...</td>\n",
              "      <td>...</td>\n",
              "      <td>...</td>\n",
              "      <td>...</td>\n",
              "      <td>...</td>\n",
              "    </tr>\n",
              "    <tr>\n",
              "      <th>95</th>\n",
              "      <td>water</td>\n",
              "      <td>N</td>\n",
              "      <td>5</td>\n",
              "      <td>Rinse your face with warm water and pat it dry .</td>\n",
              "      <td>6.91</td>\n",
              "    </tr>\n",
              "    <tr>\n",
              "      <th>96</th>\n",
              "      <td>win</td>\n",
              "      <td>V</td>\n",
              "      <td>4</td>\n",
              "      <td>Staying mentally strong means winning half the...</td>\n",
              "      <td>2.34</td>\n",
              "    </tr>\n",
              "    <tr>\n",
              "      <th>97</th>\n",
              "      <td>win</td>\n",
              "      <td>V</td>\n",
              "      <td>7</td>\n",
              "      <td>The person who has the highest score wins the ...</td>\n",
              "      <td>4.60</td>\n",
              "    </tr>\n",
              "    <tr>\n",
              "      <th>98</th>\n",
              "      <td>woman</td>\n",
              "      <td>N</td>\n",
              "      <td>7</td>\n",
              "      <td>For the most part , men and women wear the sam...</td>\n",
              "      <td>6.29</td>\n",
              "    </tr>\n",
              "    <tr>\n",
              "      <th>99</th>\n",
              "      <td>woman</td>\n",
              "      <td>N</td>\n",
              "      <td>3</td>\n",
              "      <td>Look at the woman whom you are listening to fo...</td>\n",
              "      <td>6.57</td>\n",
              "    </tr>\n",
              "  </tbody>\n",
              "</table>\n",
              "<p>100 rows × 5 columns</p>\n",
              "</div>"
            ],
            "text/plain": [
              "         TARGET POS  ...                                               TEXT  MEAN\n",
              "0   achievement   N  ...  Bring up academic achievements , awards , and ...  3.06\n",
              "1   achievement   N  ...  Please list people you have helped , your pers...  3.03\n",
              "2      activate   V  ...     Add activated carbon straight to your vodka .   3.83\n",
              "3      activate   V  ...  Place sensors around your garden , and when a ...  5.51\n",
              "4     adventure   N  ...  Look for a partner that shares your level of a...  2.03\n",
              "..          ...  ..  ...                                                ...   ...\n",
              "95        water   N  ...  Rinse your face with warm water and pat it dry .   6.91\n",
              "96          win   V  ...  Staying mentally strong means winning half the...  2.34\n",
              "97          win   V  ...  The person who has the highest score wins the ...  4.60\n",
              "98        woman   N  ...  For the most part , men and women wear the sam...  6.29\n",
              "99        woman   N  ...  Look at the woman whom you are listening to fo...  6.57\n",
              "\n",
              "[100 rows x 5 columns]"
            ]
          },
          "metadata": {
            "tags": []
          },
          "execution_count": 65
        }
      ]
    },
    {
      "cell_type": "code",
      "metadata": {
        "id": "-QA83Wr5MMRj",
        "outputId": "d3d6dfc3-e68f-4c46-dfeb-28e1d8617fc1",
        "colab": {
          "base_uri": "https://localhost:8080/",
          "height": 204
        }
      },
      "source": [
        "it_data.head()"
      ],
      "execution_count": 66,
      "outputs": [
        {
          "output_type": "execute_result",
          "data": {
            "text/html": [
              "<div>\n",
              "<style scoped>\n",
              "    .dataframe tbody tr th:only-of-type {\n",
              "        vertical-align: middle;\n",
              "    }\n",
              "\n",
              "    .dataframe tbody tr th {\n",
              "        vertical-align: top;\n",
              "    }\n",
              "\n",
              "    .dataframe thead th {\n",
              "        text-align: right;\n",
              "    }\n",
              "</style>\n",
              "<table border=\"1\" class=\"dataframe\">\n",
              "  <thead>\n",
              "    <tr style=\"text-align: right;\">\n",
              "      <th></th>\n",
              "      <th>TARGET</th>\n",
              "      <th>POS</th>\n",
              "      <th>INDEX</th>\n",
              "      <th>TEXT</th>\n",
              "      <th>MEAN</th>\n",
              "    </tr>\n",
              "  </thead>\n",
              "  <tbody>\n",
              "    <tr>\n",
              "      <th>0</th>\n",
              "      <td>affascinare</td>\n",
              "      <td>V</td>\n",
              "      <td>8</td>\n",
              "      <td>Guardati i piedi o fai finta di essere affasci...</td>\n",
              "      <td>2.39</td>\n",
              "    </tr>\n",
              "    <tr>\n",
              "      <th>1</th>\n",
              "      <td>affascinare</td>\n",
              "      <td>V</td>\n",
              "      <td>1</td>\n",
              "      <td>Sei affascinato dal funzionamento della mente ...</td>\n",
              "      <td>2.03</td>\n",
              "    </tr>\n",
              "    <tr>\n",
              "      <th>2</th>\n",
              "      <td>amore</td>\n",
              "      <td>N</td>\n",
              "      <td>5</td>\n",
              "      <td>Pensa ai tuoi sentimenti di amore , passione e...</td>\n",
              "      <td>2.71</td>\n",
              "    </tr>\n",
              "    <tr>\n",
              "      <th>3</th>\n",
              "      <td>amore</td>\n",
              "      <td>N</td>\n",
              "      <td>7</td>\n",
              "      <td>Quasi tutti sono in grado di ricevere amore e ...</td>\n",
              "      <td>2.16</td>\n",
              "    </tr>\n",
              "    <tr>\n",
              "      <th>4</th>\n",
              "      <td>aria</td>\n",
              "      <td>N</td>\n",
              "      <td>4</td>\n",
              "      <td>Accendi il condizionatore sull’ aria fredda ma...</td>\n",
              "      <td>5.68</td>\n",
              "    </tr>\n",
              "  </tbody>\n",
              "</table>\n",
              "</div>"
            ],
            "text/plain": [
              "        TARGET POS  ...                                               TEXT  MEAN\n",
              "0  affascinare   V  ...  Guardati i piedi o fai finta di essere affasci...  2.39\n",
              "1  affascinare   V  ...  Sei affascinato dal funzionamento della mente ...  2.03\n",
              "2        amore   N  ...  Pensa ai tuoi sentimenti di amore , passione e...  2.71\n",
              "3        amore   N  ...  Quasi tutti sono in grado di ricevere amore e ...  2.16\n",
              "4         aria   N  ...  Accendi il condizionatore sull’ aria fredda ma...  5.68\n",
              "\n",
              "[5 rows x 5 columns]"
            ]
          },
          "metadata": {
            "tags": []
          },
          "execution_count": 66
        }
      ]
    },
    {
      "cell_type": "markdown",
      "metadata": {
        "id": "q5CyEln_RHX1"
      },
      "source": [
        "###Question 2 (2 points): ###\n",
        "Next we will create three columns in each data frame. \n",
        "\n",
        "One column will be called 'CONCRETE' and it will be a boolean. If the mean value of the word is >=4 then this value is 0, otherwise 1. \n",
        "\n",
        "Basically, we are assuming that all words with a MEAN score greater than or equal to 4 are concrete words, and the rest are abstract.\n",
        "\n",
        "\n",
        "Next column will be another boolean 'IS_NOUN'. If the column POS == N (noun), then the 'IS_NOUN' column will be 0 otherwise it will be 1. \n",
        "\n",
        "The third column is 'IS_EARLY'. We are setting another boolean variable column, where, if the word appears early in the sentence, then this value is 0 otherwise 1. We will assume that any word which appears at INDEX < 5 appears early in this sentence. \n",
        "\n",
        "Your dataframe after you write this code should look like the example shown below. \n",
        "\n",
        "You may find it useful to use numpy and the 'where' condition for this question. \n",
        "\n",
        "Repeat the same process for the Italian data dataframe.\n"
      ]
    },
    {
      "cell_type": "code",
      "metadata": {
        "id": "2663mJTE594_",
        "outputId": "7b36f5a4-ed8c-4b89-e73c-c0b88546d320",
        "colab": {
          "base_uri": "https://localhost:8080/",
          "height": 204
        }
      },
      "source": [
        "# Create 3 new columns for english dataset based on the above conditions\n",
        "import numpy as np\n",
        "en_data['CONCRETE'] = np.where(en_data['MEAN']>=4,0,1)\n",
        "en_data['IS_NOUN'] = np.where(en_data['POS']=='N',0,1)\n",
        "en_data['IS_EARLY'] = np.where(en_data['INDEX']<5,0,1)\n",
        "\n",
        "en_data.head()"
      ],
      "execution_count": 67,
      "outputs": [
        {
          "output_type": "execute_result",
          "data": {
            "text/html": [
              "<div>\n",
              "<style scoped>\n",
              "    .dataframe tbody tr th:only-of-type {\n",
              "        vertical-align: middle;\n",
              "    }\n",
              "\n",
              "    .dataframe tbody tr th {\n",
              "        vertical-align: top;\n",
              "    }\n",
              "\n",
              "    .dataframe thead th {\n",
              "        text-align: right;\n",
              "    }\n",
              "</style>\n",
              "<table border=\"1\" class=\"dataframe\">\n",
              "  <thead>\n",
              "    <tr style=\"text-align: right;\">\n",
              "      <th></th>\n",
              "      <th>TARGET</th>\n",
              "      <th>POS</th>\n",
              "      <th>INDEX</th>\n",
              "      <th>TEXT</th>\n",
              "      <th>MEAN</th>\n",
              "      <th>CONCRETE</th>\n",
              "      <th>IS_NOUN</th>\n",
              "      <th>IS_EARLY</th>\n",
              "    </tr>\n",
              "  </thead>\n",
              "  <tbody>\n",
              "    <tr>\n",
              "      <th>0</th>\n",
              "      <td>achievement</td>\n",
              "      <td>N</td>\n",
              "      <td>3</td>\n",
              "      <td>Bring up academic achievements , awards , and ...</td>\n",
              "      <td>3.06</td>\n",
              "      <td>1</td>\n",
              "      <td>0</td>\n",
              "      <td>0</td>\n",
              "    </tr>\n",
              "    <tr>\n",
              "      <th>1</th>\n",
              "      <td>achievement</td>\n",
              "      <td>N</td>\n",
              "      <td>9</td>\n",
              "      <td>Please list people you have helped , your pers...</td>\n",
              "      <td>3.03</td>\n",
              "      <td>1</td>\n",
              "      <td>0</td>\n",
              "      <td>1</td>\n",
              "    </tr>\n",
              "    <tr>\n",
              "      <th>2</th>\n",
              "      <td>activate</td>\n",
              "      <td>V</td>\n",
              "      <td>1</td>\n",
              "      <td>Add activated carbon straight to your vodka .</td>\n",
              "      <td>3.83</td>\n",
              "      <td>1</td>\n",
              "      <td>1</td>\n",
              "      <td>0</td>\n",
              "    </tr>\n",
              "    <tr>\n",
              "      <th>3</th>\n",
              "      <td>activate</td>\n",
              "      <td>V</td>\n",
              "      <td>15</td>\n",
              "      <td>Place sensors around your garden , and when a ...</td>\n",
              "      <td>5.51</td>\n",
              "      <td>0</td>\n",
              "      <td>1</td>\n",
              "      <td>1</td>\n",
              "    </tr>\n",
              "    <tr>\n",
              "      <th>4</th>\n",
              "      <td>adventure</td>\n",
              "      <td>N</td>\n",
              "      <td>9</td>\n",
              "      <td>Look for a partner that shares your level of a...</td>\n",
              "      <td>2.03</td>\n",
              "      <td>1</td>\n",
              "      <td>0</td>\n",
              "      <td>1</td>\n",
              "    </tr>\n",
              "  </tbody>\n",
              "</table>\n",
              "</div>"
            ],
            "text/plain": [
              "        TARGET POS  INDEX  ... CONCRETE  IS_NOUN  IS_EARLY\n",
              "0  achievement   N      3  ...        1        0         0\n",
              "1  achievement   N      9  ...        1        0         1\n",
              "2     activate   V      1  ...        1        1         0\n",
              "3     activate   V     15  ...        0        1         1\n",
              "4    adventure   N      9  ...        1        0         1\n",
              "\n",
              "[5 rows x 8 columns]"
            ]
          },
          "metadata": {
            "tags": []
          },
          "execution_count": 67
        }
      ]
    },
    {
      "cell_type": "code",
      "metadata": {
        "id": "yKSEJm9xMOZC",
        "outputId": "d296b64e-c976-4a8f-be75-cd8e7c93a967",
        "colab": {
          "base_uri": "https://localhost:8080/",
          "height": 204
        }
      },
      "source": [
        "#create three new columns using conditions on the main data frame\n",
        "\n",
        "#your code goes here\n",
        "it_data['CONCRETE'] = np.where(it_data['MEAN']>=4,0,1)\n",
        "it_data['IS_NOUN'] = np.where(it_data['POS']=='N',0,1)\n",
        "it_data['IS_EARLY'] = np.where(it_data['INDEX']<5,0,1)\n",
        "\n",
        "#below is what the dataframe should look like after you have inserted the new columns and set the appropriate values\n",
        "it_data.head()                                \n"
      ],
      "execution_count": 68,
      "outputs": [
        {
          "output_type": "execute_result",
          "data": {
            "text/html": [
              "<div>\n",
              "<style scoped>\n",
              "    .dataframe tbody tr th:only-of-type {\n",
              "        vertical-align: middle;\n",
              "    }\n",
              "\n",
              "    .dataframe tbody tr th {\n",
              "        vertical-align: top;\n",
              "    }\n",
              "\n",
              "    .dataframe thead th {\n",
              "        text-align: right;\n",
              "    }\n",
              "</style>\n",
              "<table border=\"1\" class=\"dataframe\">\n",
              "  <thead>\n",
              "    <tr style=\"text-align: right;\">\n",
              "      <th></th>\n",
              "      <th>TARGET</th>\n",
              "      <th>POS</th>\n",
              "      <th>INDEX</th>\n",
              "      <th>TEXT</th>\n",
              "      <th>MEAN</th>\n",
              "      <th>CONCRETE</th>\n",
              "      <th>IS_NOUN</th>\n",
              "      <th>IS_EARLY</th>\n",
              "    </tr>\n",
              "  </thead>\n",
              "  <tbody>\n",
              "    <tr>\n",
              "      <th>0</th>\n",
              "      <td>affascinare</td>\n",
              "      <td>V</td>\n",
              "      <td>8</td>\n",
              "      <td>Guardati i piedi o fai finta di essere affasci...</td>\n",
              "      <td>2.39</td>\n",
              "      <td>1</td>\n",
              "      <td>1</td>\n",
              "      <td>1</td>\n",
              "    </tr>\n",
              "    <tr>\n",
              "      <th>1</th>\n",
              "      <td>affascinare</td>\n",
              "      <td>V</td>\n",
              "      <td>1</td>\n",
              "      <td>Sei affascinato dal funzionamento della mente ...</td>\n",
              "      <td>2.03</td>\n",
              "      <td>1</td>\n",
              "      <td>1</td>\n",
              "      <td>0</td>\n",
              "    </tr>\n",
              "    <tr>\n",
              "      <th>2</th>\n",
              "      <td>amore</td>\n",
              "      <td>N</td>\n",
              "      <td>5</td>\n",
              "      <td>Pensa ai tuoi sentimenti di amore , passione e...</td>\n",
              "      <td>2.71</td>\n",
              "      <td>1</td>\n",
              "      <td>0</td>\n",
              "      <td>1</td>\n",
              "    </tr>\n",
              "    <tr>\n",
              "      <th>3</th>\n",
              "      <td>amore</td>\n",
              "      <td>N</td>\n",
              "      <td>7</td>\n",
              "      <td>Quasi tutti sono in grado di ricevere amore e ...</td>\n",
              "      <td>2.16</td>\n",
              "      <td>1</td>\n",
              "      <td>0</td>\n",
              "      <td>1</td>\n",
              "    </tr>\n",
              "    <tr>\n",
              "      <th>4</th>\n",
              "      <td>aria</td>\n",
              "      <td>N</td>\n",
              "      <td>4</td>\n",
              "      <td>Accendi il condizionatore sull’ aria fredda ma...</td>\n",
              "      <td>5.68</td>\n",
              "      <td>0</td>\n",
              "      <td>0</td>\n",
              "      <td>0</td>\n",
              "    </tr>\n",
              "  </tbody>\n",
              "</table>\n",
              "</div>"
            ],
            "text/plain": [
              "        TARGET POS  INDEX  ... CONCRETE  IS_NOUN  IS_EARLY\n",
              "0  affascinare   V      8  ...        1        1         1\n",
              "1  affascinare   V      1  ...        1        1         0\n",
              "2        amore   N      5  ...        1        0         1\n",
              "3        amore   N      7  ...        1        0         1\n",
              "4         aria   N      4  ...        0        0         0\n",
              "\n",
              "[5 rows x 8 columns]"
            ]
          },
          "metadata": {
            "tags": []
          },
          "execution_count": 68
        }
      ]
    },
    {
      "cell_type": "markdown",
      "metadata": {
        "id": "ffScaE8SSpmc"
      },
      "source": [
        "\n",
        "###Question 3(3 points):###\n",
        "\n",
        "Using sklearn implementation of the Perceptron algorithm. \n",
        "\n",
        "First, create X and y. \n",
        "\n",
        "X are your explanatory variables -- in this case, we will use the newly created 'IS_NOUN' and 'IS_EARLY' columns are our X.\n",
        "\n",
        "y is the target variable -- the 'CONCRETE' column you created above is what we need to predict.\n",
        "\n",
        "Create a train, test split using sklearn and fit the perceptron algorithm.\n",
        "\n"
      ]
    },
    {
      "cell_type": "code",
      "metadata": {
        "id": "UZCv6ckiTmML"
      },
      "source": [
        "#your code goes here.\n",
        "from sklearn.model_selection import train_test_split\n",
        "from sklearn.metrics import accuracy_score\n",
        "\n",
        "# creation of X and Y for English dataset \n",
        "X = en_data[['IS_NOUN','IS_EARLY']]\n",
        "y = en_data['CONCRETE']\n",
        "\n",
        "# create a train and test data for English dataset\n",
        "X_train_eng, X_test_eng, y_train_eng,y_test_eng = train_test_split(X,y,\n",
        "                                        test_size = 0.2,random_state=42)\n",
        "\n"
      ],
      "execution_count": 69,
      "outputs": []
    },
    {
      "cell_type": "code",
      "metadata": {
        "id": "CAHH8xn2izwu"
      },
      "source": [
        "# creation of X and Y for Italian dataset \n",
        "X = it_data[['IS_NOUN','IS_EARLY']]\n",
        "y = it_data['CONCRETE']\n",
        "\n",
        "# create a train and test data for English dataset\n",
        "X_train_it, X_test_it, y_train_it,y_test_it = train_test_split(X,y,\n",
        "                                        test_size = 0.2,random_state=42)"
      ],
      "execution_count": 70,
      "outputs": []
    },
    {
      "cell_type": "markdown",
      "metadata": {
        "id": "l7yn-XY8TtjY"
      },
      "source": [
        "###Question 4(1 points):###\n",
        "\n",
        "Predict the values on the test set and print the result accuracy value of the model. "
      ]
    },
    {
      "cell_type": "code",
      "metadata": {
        "id": "Ib02cTdVfuju",
        "outputId": "e3b3fc76-2cf9-42e0-d0c9-fb0c1d901576",
        "colab": {
          "base_uri": "https://localhost:8080/",
          "height": 85
        }
      },
      "source": [
        "# Apply the trained perceptron on the X data to make predicts for the y test data\n",
        "# View the accuracy of the model, which is: 1 - (observations predicted wrong / total observations)\n",
        "#sample output shown below\n",
        "\n",
        "#your code goes here\n",
        "from sklearn.linear_model import Perceptron\n",
        "perceptron_eng_model = Perceptron(eta0=0.02,max_iter=20)\n",
        "perceptron_eng_model.fit(X_train_eng,y_train_eng)\n",
        "\n",
        "#print(perceptron_eng_model.get_params())"
      ],
      "execution_count": 71,
      "outputs": [
        {
          "output_type": "execute_result",
          "data": {
            "text/plain": [
              "Perceptron(alpha=0.0001, class_weight=None, early_stopping=False, eta0=0.02,\n",
              "           fit_intercept=True, max_iter=20, n_iter_no_change=5, n_jobs=None,\n",
              "           penalty=None, random_state=0, shuffle=True, tol=0.001,\n",
              "           validation_fraction=0.1, verbose=0, warm_start=False)"
            ]
          },
          "metadata": {
            "tags": []
          },
          "execution_count": 71
        }
      ]
    },
    {
      "cell_type": "code",
      "metadata": {
        "id": "ABL7JZFi595U",
        "outputId": "91c3bbad-eb9d-41c3-fad6-904b2eebcf35",
        "colab": {
          "base_uri": "https://localhost:8080/",
          "height": 34
        }
      },
      "source": [
        "predictions_english = perceptron_eng_model.predict(X_test_eng)\n",
        "accuracy_english = accuracy_score(y_test_eng,predictions_english)\n",
        "print('Accuracy : {:.2f}'.format(accuracy_english))"
      ],
      "execution_count": 72,
      "outputs": [
        {
          "output_type": "stream",
          "text": [
            "Accuracy : 0.60\n"
          ],
          "name": "stdout"
        }
      ]
    },
    {
      "cell_type": "markdown",
      "metadata": {
        "id": "J5zNWLBCUHDU"
      },
      "source": [
        "\n",
        "###Question 5 (3 points):###\n",
        "\n",
        "Repeat the Questions 3 and 4 for the Italian data. \n"
      ]
    },
    {
      "cell_type": "code",
      "metadata": {
        "id": "hVzXtH0RhCp2",
        "outputId": "348ab9d1-82e0-451d-c96d-6cc6b6c5419f",
        "colab": {
          "base_uri": "https://localhost:8080/",
          "height": 85
        }
      },
      "source": [
        "#Repeat the process for the italian dataset\n",
        "#your code goes here.\n",
        "#sample output shown below\n",
        "\n",
        "perceptron_it_model = Perceptron(eta0=0.01,max_iter=20)\n",
        "perceptron_it_model.fit(X_train_it,y_train_it)\n",
        "\n",
        "#print(perceptron_it_model.get_params())"
      ],
      "execution_count": 73,
      "outputs": [
        {
          "output_type": "execute_result",
          "data": {
            "text/plain": [
              "Perceptron(alpha=0.0001, class_weight=None, early_stopping=False, eta0=0.01,\n",
              "           fit_intercept=True, max_iter=20, n_iter_no_change=5, n_jobs=None,\n",
              "           penalty=None, random_state=0, shuffle=True, tol=0.001,\n",
              "           validation_fraction=0.1, verbose=0, warm_start=False)"
            ]
          },
          "metadata": {
            "tags": []
          },
          "execution_count": 73
        }
      ]
    },
    {
      "cell_type": "code",
      "metadata": {
        "id": "wQAtZgLdgHy6",
        "outputId": "89b43313-2f49-486b-f679-692f48c77c3b",
        "colab": {
          "base_uri": "https://localhost:8080/",
          "height": 34
        }
      },
      "source": [
        "# Apply the trained perceptron on the X data to make predicts for the y test data\n",
        "# View the accuracy of the model, which is: 1 - (observations predicted wrong / total observations)\n",
        "#sample output shown below\n",
        "#your code goes here\n",
        "\n",
        "predictions_italian = perceptron_it_model.predict(X_test_it)\n",
        "accuracy_italian = accuracy_score(y_test_it,predictions_italian)\n",
        "print('Accuracy : {:.2f}'.format(accuracy_italian))"
      ],
      "execution_count": 74,
      "outputs": [
        {
          "output_type": "stream",
          "text": [
            "Accuracy : 0.60\n"
          ],
          "name": "stdout"
        }
      ]
    }
  ]
}